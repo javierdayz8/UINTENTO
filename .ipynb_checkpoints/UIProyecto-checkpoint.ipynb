{
 "cells": [
  {
   "cell_type": "markdown",
   "metadata": {},
   "source": [
    "Tula"
   ]
  },
  {
   "cell_type": "markdown",
   "metadata": {},
   "source": [
    "popo"
   ]
  },
  {
   "cell_type": "markdown",
   "metadata": {},
   "source": [
    "Funcion a minimizar: \n",
    "$175x_1+400x_2+275x_3+220x_4+470x_5$\n",
    "\n",
    "Restricciones de disponibilidad:\n",
    "* $x_1\\leq30$\n",
    "* $x_2\\leq30$\n",
    "* $x_3\\leq30$\n",
    "* $x_4\\leq40$\n",
    "* $x_5\\leq27.5$\n",
    "\n",
    "Restriccion de material excavado:\n",
    "$20x_1+120x_2+72x_3+48x_4+32x_5=5000$"
   ]
  },
  {
   "cell_type": "markdown",
   "metadata": {},
   "source": [
    "calando 1,2,3"
   ]
  },
  {
   "cell_type": "markdown",
   "metadata": {},
   "source": [
    "<img style=\"float: right; margin: 0px 0px 15px 15px;\" src=\"http://rentalstore.tracsa.com.mx/img/familias/excavadoras-listado.png\" width=\"300px\" height=\"100px\" />\n",
    "\n",
    "\n",
    "# PROYECTO.\n",
    "## OPTIMIZACIÓN DE MAQUINARIA.\n",
    "### PROYECTO DE MOVIMIENTO DE TIERRAS.\n",
    "\n",
    " + FRANCISCO JAVIER DIAZ ESQUIVEL IC727603\n",
    " + ERIK DANIEL COTA VILLA IC727872"
   ]
  },
  {
   "cell_type": "markdown",
   "metadata": {},
   "source": [
    "llokokokoko pero millonario"
   ]
  }
 ],
 "metadata": {
  "kernelspec": {
   "display_name": "Python 3",
   "language": "python",
   "name": "python3"
  },
  "language_info": {
   "codemirror_mode": {
    "name": "ipython",
    "version": 3
   },
   "file_extension": ".py",
   "mimetype": "text/x-python",
   "name": "python",
   "nbconvert_exporter": "python",
   "pygments_lexer": "ipython3",
   "version": "3.7.4"
  }
 },
 "nbformat": 4,
 "nbformat_minor": 4
}
